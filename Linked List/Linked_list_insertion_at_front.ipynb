{
 "cells": [
  {
   "cell_type": "code",
   "execution_count": 1,
   "metadata": {},
   "outputs": [
    {
     "name": "stdout",
     "output_type": "stream",
     "text": [
      "Enter the number of elements in linked list : 5\n",
      "Enter the elements : \n",
      "1\n",
      "2\n",
      "3\n",
      "4\n",
      "5\n",
      "Linked list is : \n",
      "5\n",
      "4\n",
      "3\n",
      "2\n",
      "1\n"
     ]
    }
   ],
   "source": [
    "class Node:    # Making a class node for storing data and having pointers.\n",
    "    \n",
    "    def __init__(self, data):   # Constructor for the variables.\n",
    "        self.data = data\n",
    "        self.next = None   # First data which points to none only.\n",
    "        \n",
    "class LinkedList:   # Class for linked list.\n",
    "    \n",
    "    def __init__(self):   # Setting the head to none in starting.\n",
    "        self.head = None\n",
    "    \n",
    "    def insert(self, newnode):   # Function for inserting the new node in the linked list.\n",
    "        if self.head is None:   # If linked list is empty made the newnode as first node.\n",
    "            self.head = newnode\n",
    "        else:\n",
    "            x = self.head   # Storing the head node in temporary variable.\n",
    "            self.head = newnode   # Making the newnode as the head.\n",
    "            newnode.next = x   # Making the pointer of the newnode to previous node.\n",
    "            \n",
    "            \n",
    "    def printlist(self):   # Function for printing of the linked list.\n",
    "        if self.head is None:   # If the list is empty.\n",
    "            print('List is empty')\n",
    "        else:\n",
    "            x = self.head\n",
    "            print(x.data)   # Printing the data in the node.\n",
    "            while True:\n",
    "                if x.next is None:\n",
    "                    break\n",
    "                x = x.next\n",
    "                print(x.data)\n",
    "    \n",
    "n = int(input('Enter the number of elements in linked list : '))\n",
    "linkedlist = LinkedList()\n",
    "print('Enter the elements : ')\n",
    "\n",
    "while n>0:\n",
    "    node = int(input())\n",
    "    NewNode = Node(node)\n",
    "    linkedlist.insert(NewNode)\n",
    "    n-=1\n",
    "    \n",
    "print('Linked list is : ')\n",
    "linkedlist.printlist()"
   ]
  }
 ],
 "metadata": {
  "kernelspec": {
   "display_name": "Python 3",
   "language": "python",
   "name": "python3"
  },
  "language_info": {
   "codemirror_mode": {
    "name": "ipython",
    "version": 3
   },
   "file_extension": ".py",
   "mimetype": "text/x-python",
   "name": "python",
   "nbconvert_exporter": "python",
   "pygments_lexer": "ipython3",
   "version": "3.7.0"
  }
 },
 "nbformat": 4,
 "nbformat_minor": 2
}
